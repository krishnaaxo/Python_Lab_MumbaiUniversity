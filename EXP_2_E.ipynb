{
  "nbformat": 4,
  "nbformat_minor": 0,
  "metadata": {
    "colab": {
      "name": "EXP.2.E.ipynb",
      "provenance": [],
      "collapsed_sections": [],
      "authorship_tag": "ABX9TyP4CW47y0kO6g2PWWu75WX2",
      "include_colab_link": true
    },
    "kernelspec": {
      "name": "python3",
      "display_name": "Python 3"
    }
  },
  "cells": [
    {
      "cell_type": "markdown",
      "metadata": {
        "id": "view-in-github",
        "colab_type": "text"
      },
      "source": [
        "<a href=\"https://colab.research.google.com/github/krishnaaxo/Python_Lab_MumbaiUniversity/blob/main/EXP_2_E.ipynb\" target=\"_parent\"><img src=\"https://colab.research.google.com/assets/colab-badge.svg\" alt=\"Open In Colab\"/></a>"
      ]
    },
    {
      "cell_type": "markdown",
      "metadata": {
        "id": "I-Zfbr_WLxzY"
      },
      "source": [
        "**E. Write a menu-driven program to demonstrate the use of set in\n",
        "python:**"
      ]
    },
    {
      "cell_type": "code",
      "metadata": {
        "colab": {
          "base_uri": "https://localhost:8080/"
        },
        "id": "Q5KLd0HG93Tq",
        "outputId": "4836aa5b-f73f-4185-9f93-127649339069"
      },
      "source": [
        "\n",
        "\n",
        "while True:\n",
        "    print(\"Menu$$$$$$$$$$\")\n",
        "    print(\"1.Enter two strings\")\n",
        "    print(\"2.Display common letters\")\n",
        "    print(\"3.Display letters which are in the first string but not in the second string\")\n",
        "    print(\"4.Display set of all letters from both the strings\")\n",
        "    print(\"5.Display set of letters which are in two strings but not common\")\n",
        "    print(\"6.EXIT\")\n",
        "    choice=int(input(\"Enter your choice:\"))\n",
        "    if choice ==1:\n",
        "      global a,b\n",
        "      a,b=input(\"Enter String 1 and String 2\").split()\n",
        "      c=set(a)\n",
        "      d=set(b)\n",
        "        \n",
        "    elif choice==2:\n",
        "      print(f\"\\n The common letters in string one and two are {c.intersection(d)}\")\n",
        "      \n",
        "    elif choice==3:\n",
        "      print(f\"\\n The letters which are in the first string but not in the second string {c.difference(d)}\")\n",
        "\n",
        "    elif choice==4:\n",
        "      print(f\"\\n The set of all letters from both the strings {c.union(d)}\")\n",
        "      \n",
        "\n",
        "    elif choice==5:\n",
        "      print(f\"\\n The set of letters which are in two strings but not common {c.symmetric_difference(d)}\")\n",
        "      \n",
        "\n",
        "    elif choice==6:\n",
        "      break\n",
        "\n",
        "    else:\n",
        "        print('wrong choice')\n"
      ],
      "execution_count": null,
      "outputs": [
        {
          "output_type": "stream",
          "text": [
            "Menu$$$$$$$$$$\n",
            "1.Enter two strings\n",
            "2.Display common letters\n",
            "3.Display letters which are in the first string but not in the second string\n",
            "4.Display set of all letters from both the strings\n",
            "5.Display set of letters which are in two strings but not common\n",
            "6.EXIT\n",
            "Enter your choice:1\n",
            "Enter String 1 and String 2krishna varsha\n",
            "Menu$$$$$$$$$$\n",
            "1.Enter two strings\n",
            "2.Display common letters\n",
            "3.Display letters which are in the first string but not in the second string\n",
            "4.Display set of all letters from both the strings\n",
            "5.Display set of letters which are in two strings but not common\n",
            "6.EXIT\n",
            "Enter your choice:2\n",
            "\n",
            " The common letters in string one and two are {'r', 'h', 's', 'a'}\n",
            "Menu$$$$$$$$$$\n",
            "1.Enter two strings\n",
            "2.Display common letters\n",
            "3.Display letters which are in the first string but not in the second string\n",
            "4.Display set of all letters from both the strings\n",
            "5.Display set of letters which are in two strings but not common\n",
            "6.EXIT\n",
            "Enter your choice:5\n",
            "\n",
            " The set of letters which are in two strings but not common {'i', 'v', 'k', 'n'}\n",
            "Menu$$$$$$$$$$\n",
            "1.Enter two strings\n",
            "2.Display common letters\n",
            "3.Display letters which are in the first string but not in the second string\n",
            "4.Display set of all letters from both the strings\n",
            "5.Display set of letters which are in two strings but not common\n",
            "6.EXIT\n",
            "Enter your choice:4\n",
            "\n",
            " The set of all letters from both the strings {'i', 'h', 's', 'a', 'r', 'k', 'v', 'n'}\n",
            "Menu$$$$$$$$$$\n",
            "1.Enter two strings\n",
            "2.Display common letters\n",
            "3.Display letters which are in the first string but not in the second string\n",
            "4.Display set of all letters from both the strings\n",
            "5.Display set of letters which are in two strings but not common\n",
            "6.EXIT\n",
            "Enter your choice:3\n",
            "\n",
            " The letters which are in the first string but not in the second string {'i', 'n', 'k'}\n",
            "Menu$$$$$$$$$$\n",
            "1.Enter two strings\n",
            "2.Display common letters\n",
            "3.Display letters which are in the first string but not in the second string\n",
            "4.Display set of all letters from both the strings\n",
            "5.Display set of letters which are in two strings but not common\n",
            "6.EXIT\n",
            "Enter your choice:6\n"
          ],
          "name": "stdout"
        }
      ]
    },
    {
      "cell_type": "code",
      "metadata": {
        "colab": {
          "base_uri": "https://localhost:8080/"
        },
        "id": "_V02iAh3-08w",
        "outputId": "c611e566-0e7f-4f98-b082-e21358b049a1"
      },
      "source": [
        ""
      ],
      "execution_count": null,
      "outputs": [
        {
          "output_type": "stream",
          "text": [
            "Enter String 1krishna varsha\n"
          ],
          "name": "stdout"
        }
      ]
    },
    {
      "cell_type": "code",
      "metadata": {
        "colab": {
          "base_uri": "https://localhost:8080/"
        },
        "id": "r-EOrhSJ_JiR",
        "outputId": "f02710a4-82d3-45bb-8839-7841085b4426"
      },
      "source": [
        ""
      ],
      "execution_count": null,
      "outputs": [
        {
          "output_type": "stream",
          "text": [
            "krishna\n",
            "varsha\n"
          ],
          "name": "stdout"
        }
      ]
    }
  ]
}