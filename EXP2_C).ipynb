{
  "nbformat": 4,
  "nbformat_minor": 0,
  "metadata": {
    "colab": {
      "name": "EXP2.C).ipynb",
      "provenance": [],
      "authorship_tag": "ABX9TyP4aCF3SJa9cFnHdl4QOVht",
      "include_colab_link": true
    },
    "kernelspec": {
      "name": "python3",
      "display_name": "Python 3"
    }
  },
  "cells": [
    {
      "cell_type": "markdown",
      "metadata": {
        "id": "view-in-github",
        "colab_type": "text"
      },
      "source": [
        "<a href=\"https://colab.research.google.com/github/krishnaaxo/Python_Lab_MumbaiUniversity/blob/main/EXP2_C).ipynb\" target=\"_parent\"><img src=\"https://colab.research.google.com/assets/colab-badge.svg\" alt=\"Open In Colab\"/></a>"
      ]
    },
    {
      "cell_type": "markdown",
      "metadata": {
        "id": "-KkQmBYzE-Zf"
      },
      "source": [
        "**1.Python program for finding a power of a given number using Recursive Method**"
      ]
    },
    {
      "cell_type": "code",
      "metadata": {
        "colab": {
          "base_uri": "https://localhost:8080/"
        },
        "id": "Z9CHZz-Upbp5",
        "outputId": "ce86bb35-ad77-4671-d8ae-981b8154570a"
      },
      "source": [
        "def power(b,p):\n",
        "  if(p==1):\n",
        "    return(b)   \n",
        "  if(p!=1):\n",
        "    return(b*power(b,p-1))\n",
        "            \n",
        "b=int(input(\"Enter Base value: \"))\n",
        "p=int(input(\"Enter exponential value: \"))\n",
        "print(f\"Result:{power(b,p)}\")"
      ],
      "execution_count": null,
      "outputs": [
        {
          "output_type": "stream",
          "text": [
            "Enter Base value: 6\n",
            "Enter exponential value: 2\n",
            "Result:36\n"
          ],
          "name": "stdout"
        }
      ]
    },
    {
      "cell_type": "markdown",
      "metadata": {
        "id": "smm9cCjME5j_"
      },
      "source": [
        "**2.Python Program for printing Fibonacci Number using Recursive method.**"
      ]
    },
    {
      "cell_type": "code",
      "metadata": {
        "colab": {
          "base_uri": "https://localhost:8080/"
        },
        "id": "rE60jy_ksKme",
        "outputId": "6121a93b-e8e0-42ac-fb07-fe33a5e8f748"
      },
      "source": [
        "\n",
        "def fib(n):\n",
        "\n",
        "  if n <= 1:\n",
        "     return n\n",
        "       \n",
        "  else:\n",
        "     return(recur_fibo(n-1) + recur_fibo(n-2))\n",
        "       \n",
        "\n",
        "num=int(input(\"Enter number: \"))\n",
        "for i in range(num):\n",
        "       print(fib(i))\n",
        "  "
      ],
      "execution_count": null,
      "outputs": [
        {
          "output_type": "stream",
          "text": [
            "Enter number: 6\n",
            "0\n",
            "1\n",
            "1\n",
            "2\n",
            "3\n",
            "5\n"
          ],
          "name": "stdout"
        }
      ]
    }
  ]
}