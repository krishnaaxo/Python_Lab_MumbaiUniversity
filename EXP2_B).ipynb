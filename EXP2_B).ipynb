{
  "nbformat": 4,
  "nbformat_minor": 0,
  "metadata": {
    "colab": {
      "name": "EXP2.B).ipynb",
      "provenance": [],
      "collapsed_sections": [],
      "authorship_tag": "ABX9TyPEVr6HSLfnNgEhlFLwolgF",
      "include_colab_link": true
    },
    "kernelspec": {
      "name": "python3",
      "display_name": "Python 3"
    }
  },
  "cells": [
    {
      "cell_type": "markdown",
      "metadata": {
        "id": "view-in-github",
        "colab_type": "text"
      },
      "source": [
        "<a href=\"https://colab.research.google.com/github/krishnaaxo/Python_Lab_MumbaiUniversity/blob/main/EXP2_B).ipynb\" target=\"_parent\"><img src=\"https://colab.research.google.com/assets/colab-badge.svg\" alt=\"Open In Colab\"/></a>"
      ]
    },
    {
      "cell_type": "markdown",
      "metadata": {
        "id": "CGj89Y2Y71FO"
      },
      "source": [
        "**2. Advanced Data types and functions in Python:**\n",
        "*B.\tWrite a python program to input a multiline string or a paragraph & count the no. of words & characters in string. Also check for a substring & replace each of its occurrences by some other string. *"
      ]
    },
    {
      "cell_type": "code",
      "metadata": {
        "id": "2X6GAEyaWN1N",
        "colab": {
          "base_uri": "https://localhost:8080/"
        },
        "outputId": "f70942a8-f9d0-4a75-fb7d-f07dca5c35a1"
      },
      "source": [
        "\n",
        "\n",
        "def get():\n",
        "  global Paragraph\n",
        "  global text\n",
        "  lines = []\n",
        "  print(\"Enter the Pragraph\")\n",
        "  while True:\n",
        "\n",
        "     \n",
        "    line = input('')\n",
        "    if line:\n",
        "        lines.append(line)\n",
        "    else:\n",
        "        break\n",
        "        \n",
        "\n",
        "  a = \" \".join(lines)\n",
        "  Paragraph=a\n",
        "  text = '\\n'.join(lines)\n",
        "  \n",
        "\n",
        "def count():\n",
        "  char=0\n",
        "  word=1\n",
        "  for i in Paragraph:\n",
        "      char=char+1\n",
        "      if(i==' '):\n",
        "            word=word+1\n",
        "\n",
        "  print(\"Number of words in the string:\")\n",
        "  print(word)\n",
        "  print(\"Number of characters in the string:\")\n",
        "  print(char)\n",
        "\n",
        "\n",
        "def has():\n",
        "  \n",
        "  substr1 = input(\"Enter the substring to check: \")\n",
        "  if(contains(Paragraph, substr1)):\n",
        "    print(\"Substring is present\")\n",
        "  else:\n",
        "    print (\"Substring is not present\")\n",
        "\n",
        "\n",
        "def rep():\n",
        "  global Paragraph\n",
        "  substr1 = input(\"Enter the old substring to be replaced : \")\n",
        "  substr2 = input(\"Enter the new substring to be replaced : \")\n",
        "  if (substr1 in Paragraph ):\n",
        "    print(\"Substring is present\")\n",
        "    \n",
        "    print(f\"The Paragraph:{Paragraph.replace(substr1, substr2)}\")\n",
        "  else:\n",
        "    print (\"Substring is not present\")    \n",
        "\n",
        "\n",
        "\n",
        "def pri():\n",
        "  print(f'The Paragraph{text\n",
        "                        }') \n",
        "\n",
        "  \n",
        "def getc():\n",
        " print(\"Menu\\n1.Enter Paragraph \\n2.count the no. of words & characters in string\\n3.check for a substring and replace it\\n4.print the paragraph \\n5.EXIT\")\n",
        " b=int(input(\"Enter your choice\"))\n",
        " return b\n",
        "\n",
        "\n",
        "c=getc()\n",
        "\n",
        "while (c>0 and c<=4):\n",
        "  if c==1:\n",
        "    get()\n",
        "    c=getc()\n",
        "\n",
        "  elif c==2:\n",
        "    count()\n",
        "    c=getc()\n",
        "   \n",
        "  elif c==3:\n",
        "    rep()\n",
        "    c=getc()\n",
        "  elif c==4:\n",
        "    pri()\n",
        "    c=getc()\n"
      ],
      "execution_count": null,
      "outputs": [
        {
          "output_type": "stream",
          "text": [
            "Menu\n",
            "1.Enter Paragraph \n",
            "2.count the no. of words & characters in string\n",
            "3.check for a substring and replace it\n",
            "4.print the paragraph \n",
            "5.EXIT\n",
            "Enter your choice1\n",
            "Enter the Pragraph\n",
            "A paragraph is a self-contained unit of discourse in writing dealing\n",
            "with a particular point or idea. A paragraph consists of one or more\n",
            "sentences. Though not required by the syntax of any language,\n",
            "paragraphs are usually an expected part of formal writing, used to\n",
            "organize longer prose. \n",
            "\n",
            "Menu\n",
            "1.Enter Paragraph \n",
            "2.count the no. of words & characters in string\n",
            "3.check for a substring and replace it\n",
            "4.print the paragraph \n",
            "5.EXIT\n",
            "Enter your choice2\n",
            "Number of words in the string:\n",
            "49\n",
            "Number of characters in the string:\n",
            "290\n",
            "Menu\n",
            "1.Enter Paragraph \n",
            "2.count the no. of words & characters in string\n",
            "3.check for a substring and replace it\n",
            "4.print the paragraph \n",
            "5.EXIT\n",
            "Enter your choice3\n",
            "Enter the old substring to be replaced : an\n",
            "Enter the new substring to be replaced : aaaaaaaa\n",
            "Substring is present\n",
            "The Paragraph:A paragraph is a self-contained unit of discourse in writing dealing with a particular point or idea. A paragraph consists of one or more sentences. Though not required by the syntax of aaaaaaaay laaaaaaaaguage, paragraphs are usually aaaaaaaa expected part of formal writing, used to orgaaaaaaaaize longer prose. \n",
            "Menu\n",
            "1.Enter Paragraph \n",
            "2.count the no. of words & characters in string\n",
            "3.check for a substring and replace it\n",
            "4.print the paragraph \n",
            "5.EXIT\n",
            "Enter your choice4\n",
            "The ParagraphA paragraph is a self-contained unit of discourse in writing dealing\n",
            "with a particular point or idea. A paragraph consists of one or more\n",
            "sentences. Though not required by the syntax of any language,\n",
            "paragraphs are usually an expected part of formal writing, used to\n",
            "organize longer prose. \n",
            "Menu\n",
            "1.Enter Paragraph \n",
            "2.count the no. of words & characters in string\n",
            "3.check for a substring and replace it\n",
            "4.print the paragraph \n",
            "5.EXIT\n",
            "Enter your choice5\n"
          ],
          "name": "stdout"
        }
      ]
    },
    {
      "cell_type": "code",
      "metadata": {
        "id": "q0zjIvPi2WTB"
      },
      "source": [
        ""
      ],
      "execution_count": null,
      "outputs": []
    }
  ]
}