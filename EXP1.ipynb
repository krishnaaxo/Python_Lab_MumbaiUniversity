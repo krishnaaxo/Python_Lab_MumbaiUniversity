{
  "nbformat": 4,
  "nbformat_minor": 0,
  "metadata": {
    "colab": {
      "name": "EXP1.ipynb",
      "provenance": [],
      "authorship_tag": "ABX9TyPyw6Fik9eraH5CHoSGkQkx",
      "include_colab_link": true
    },
    "kernelspec": {
      "name": "python3",
      "display_name": "Python 3"
    }
  },
  "cells": [
    {
      "cell_type": "markdown",
      "metadata": {
        "id": "view-in-github",
        "colab_type": "text"
      },
      "source": [
        "<a href=\"https://colab.research.google.com/github/krishnaaxo/Python_Lab_MumbaiUniversity/blob/main/EXP1.ipynb\" target=\"_parent\"><img src=\"https://colab.research.google.com/assets/colab-badge.svg\" alt=\"Open In Colab\"/></a>"
      ]
    },
    {
      "cell_type": "markdown",
      "metadata": {
        "id": "r-rfBAOFDlUH"
      },
      "source": [
        "# Exp-1.Basics of Python:"
      ]
    },
    {
      "cell_type": "markdown",
      "metadata": {
        "id": "JchrxvlnDWsM"
      },
      "source": [
        "**a)\tWrite a python program to swap two numbers and check if the first number is positive, negative or zero.**"
      ]
    },
    {
      "cell_type": "code",
      "metadata": {
        "colab": {
          "base_uri": "https://localhost:8080/"
        },
        "id": "Fu1bsajF_8nf",
        "outputId": "76f258d9-ce9a-48a8-97c8-7a07b0a8fc51"
      },
      "source": [
        "num1, num2 = input('Enter First and second Number: ').split()\n",
        "print(f\"Value of num1 : {num1}  and num2 : {num2}before swapping \")\n",
        "temp = num1\n",
        "num1 = num2\n",
        "num2 = temp\n",
        "print(f\"Value of num1 : {num1}  and num2 : {num2}after swapping \")"
      ],
      "execution_count": null,
      "outputs": [
        {
          "output_type": "stream",
          "text": [
            "Enter First and second Number: 2 3\n",
            "Value of num1 : 2  and num2 : 3before swapping \n",
            "Value of num1 : 3  and num2 : 2after swapping \n"
          ],
          "name": "stdout"
        }
      ]
    },
    {
      "cell_type": "markdown",
      "metadata": {
        "id": "96oZ5b8oDWNW"
      },
      "source": [
        "**b)\tWrite a python program to print all the numbers divisible by 4 in the range 1 to n (use for loop).**"
      ]
    },
    {
      "cell_type": "code",
      "metadata": {
        "colab": {
          "base_uri": "https://localhost:8080/"
        },
        "id": "WW8Jcn-w_8QB",
        "outputId": "3fa87fd8-0605-497a-d563-72c68683faf4"
      },
      "source": [
        "n=int(input(\"Enter range limit:\"))\n",
        "for i in range(1,n+1):\n",
        "    if(i%4==0):\n",
        "        print(i)"
      ],
      "execution_count": null,
      "outputs": [
        {
          "output_type": "stream",
          "text": [
            "Enter range limit:10\n",
            "4\n",
            "8\n"
          ],
          "name": "stdout"
        }
      ]
    },
    {
      "cell_type": "markdown",
      "metadata": {
        "id": "aHrQMVfcDQJe"
      },
      "source": [
        "**c)Write a python program to find the factorial of an input number (use while loop).**"
      ]
    },
    {
      "cell_type": "code",
      "metadata": {
        "colab": {
          "base_uri": "https://localhost:8080/"
        },
        "id": "6EdDKphE_8D_",
        "outputId": "8fbbcd38-7a4f-4016-da2c-83fb1f86ea15"
      },
      "source": [
        "n=int(input(\"Enter the number:\"))\n",
        "factorial=1\n",
        "while(n>0):\n",
        "        factorial=factorial*n\n",
        "        \n",
        "        n-=1\n",
        "print(f\"factorial of the given number is:{factorial} \")        \n",
        "        "
      ],
      "execution_count": null,
      "outputs": [
        {
          "output_type": "stream",
          "text": [
            "Enter the number:5\n",
            "factorial of the given number is:120 \n"
          ],
          "name": "stdout"
        }
      ]
    },
    {
      "cell_type": "markdown",
      "metadata": {
        "id": "AS8ZUvIpDE62"
      },
      "source": [
        "**d)\tWrite a menu-driven python program to build simple calculator functions.**"
      ]
    },
    {
      "cell_type": "code",
      "metadata": {
        "colab": {
          "base_uri": "https://localhost:8080/"
        },
        "id": "iH7G14Ux_4R2",
        "outputId": "a311b029-a395-478f-c5cc-32e1da60897d"
      },
      "source": [
        "def add():\n",
        "    x=int(input(\"Enter the number1:\"))\n",
        "    y=int(input(\"Enter the number2:\"))\n",
        "    c=x+y\n",
        "    print(f\"the answer is {c}\")\n",
        "    \n",
        "def sub():\n",
        "    x=int(input(\"Enter the number1:\"))\n",
        "    y=int(input(\"Enter the number2:\"))\n",
        "    c=x-y\n",
        "    print(f\"the answer is {c}\")\n",
        "  \n",
        "def multi():\n",
        "    x=int(input(\"Enter the number1:\"))\n",
        "    y=int(input(\"Enter the number2:\"))\n",
        "    c=x*y\n",
        "    print(f\"the answer is {c}\")\n",
        "\n",
        "def divide():\n",
        "    x=int(input(\"Enter the number1:\"))\n",
        "    y=int(input(\"Enter the number2:\"))\n",
        "    c=x/y\n",
        "    print(f\"the answer is {c}\")\n",
        "    \n",
        "def getc():\n",
        "    print(\"menu\\n1.Add\\n2.Subtract\\n3.Multiply\\n4.Divide\\n5.EXIT\")  \n",
        "    b=int(input(\"Enter your choice\"))\n",
        "    return b\n",
        "\n",
        "c=getc()    \n",
        "    \n",
        "while (c>0 and c<=4):\n",
        "    if c==1:\n",
        "        add()\n",
        "        c=getc()\n",
        "    elif c==2:\n",
        "        \n",
        "        sub()\n",
        "        c=getc()\n",
        "    elif c==3:\n",
        "        multi()\n",
        "        c=getc()\n",
        "        \n",
        "    elif c==4:\n",
        "        divide()\n",
        "        c=getc()\n",
        "        \n",
        "        "
      ],
      "execution_count": null,
      "outputs": [
        {
          "output_type": "stream",
          "text": [
            "menu\n",
            "1.Add\n",
            "2.Subtract\n",
            "3.Multiply\n",
            "4.Divide\n",
            "5.EXIT\n",
            "Enter your choice3\n",
            "Enter the number1:3\n",
            "Enter the number2:1\n",
            "the answer is 3\n",
            "menu\n",
            "1.Add\n",
            "2.Subtract\n",
            "3.Multiply\n",
            "4.Divide\n",
            "5.EXIT\n",
            "Enter your choice1\n",
            "Enter the number1:60\n",
            "Enter the number2:40\n",
            "the answer is 100\n",
            "menu\n",
            "1.Add\n",
            "2.Subtract\n",
            "3.Multiply\n",
            "4.Divide\n",
            "5.EXIT\n",
            "Enter your choice5\n"
          ],
          "name": "stdout"
        }
      ]
    },
    {
      "cell_type": "markdown",
      "metadata": {
        "id": "rdfpidCcC7T6"
      },
      "source": [
        "**e)\tWrite a python program to display Fibonacci series of n number.**"
      ]
    },
    {
      "cell_type": "code",
      "metadata": {
        "colab": {
          "base_uri": "https://localhost:8080/"
        },
        "id": "CgXtZP8MAQVZ",
        "outputId": "1fc16f44-a52c-49bd-adcc-dccb95f687fb"
      },
      "source": [
        "def fib(number):\n",
        "  a=0\n",
        "  b=1\n",
        "  x=[]\n",
        "  for i in range(number):\n",
        "    x.append(a)\n",
        "    temp=a\n",
        "    a=b\n",
        "    b=temp+b\n",
        "  return x  \n",
        "\n",
        "\n",
        "a=int(input(\"enter the number\"))\n",
        "c=fib(a)\n",
        "print(c)\n"
      ],
      "execution_count": null,
      "outputs": [
        {
          "output_type": "stream",
          "text": [
            "enter the number10\n",
            "[0, 1, 1, 2, 3, 5, 8, 13, 21, 34]\n"
          ],
          "name": "stdout"
        }
      ]
    }
  ]
}